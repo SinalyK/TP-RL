{
 "cells": [
  {
   "cell_type": "code",
   "execution_count": 1,
   "metadata": {},
   "outputs": [],
   "source": [
    "import gymnasium as gym\n",
    "import numpy as np\n",
    "\n",
    "env=gym.make(\"FrozenLake-v1\",is_slippery=True)"
   ]
  },
  {
   "cell_type": "markdown",
   "metadata": {},
   "source": [
    "# Exercice 1"
   ]
  },
  {
   "cell_type": "code",
   "execution_count": 2,
   "metadata": {},
   "outputs": [
    {
     "name": "stdout",
     "output_type": "stream",
     "text": [
      "Espace d'etats: Discrete(16)\n",
      "Espace d'actions: Discrete(4)\n"
     ]
    }
   ],
   "source": [
    "#Instruction 2\n",
    "print(f\"Espace d'etats: {env.observation_space}\")\n",
    "print(f\"Espace d'actions: {env.action_space}\")"
   ]
  },
  {
   "cell_type": "code",
   "execution_count": 3,
   "metadata": {},
   "outputs": [
    {
     "name": "stdout",
     "output_type": "stream",
     "text": [
      "Action : 1, Observations : 0, Reward : 0.0\n",
      "Action : 0, Observations : 0, Reward : 0.0\n",
      "Action : 3, Observations : 0, Reward : 0.0\n",
      "Action : 1, Observations : 4, Reward : 0.0\n",
      "Action : 0, Observations : 4, Reward : 0.0\n",
      "Action : 1, Observations : 4, Reward : 0.0\n",
      "Action : 3, Observations : 1, Reward : 0.0\n",
      "Action : 1, Observations : 0, Reward : 0.0\n",
      "Action : 0, Observations : 0, Reward : 0.0\n",
      "Action : 3, Observations : 0, Reward : 0.0\n",
      "Action : 0, Observations : 0, Reward : 0.0\n",
      "Action : 2, Observations : 1, Reward : 0.0\n",
      "Action : 0, Observations : 4, Reward : 0.0\n",
      "Action : 2, Observations : 1, Reward : 0.0\n",
      "Action : 1, Observations : 1, Reward : 0.0\n",
      "Action : 0, Observations : 0, Reward : 0.0\n",
      "Action : 0, Observations : 0, Reward : 0.0\n",
      "Action : 2, Observations : 0, Reward : 0.0\n",
      "Action : 2, Observations : 1, Reward : 0.0\n",
      "Action : 1, Observations : 1, Reward : 0.0\n",
      "Action : 3, Observations : 0, Reward : 0.0\n",
      "Action : 1, Observations : 0, Reward : 0.0\n",
      "Action : 1, Observations : 0, Reward : 0.0\n",
      "Action : 2, Observations : 1, Reward : 0.0\n",
      "Action : 1, Observations : 1, Reward : 0.0\n",
      "Action : 0, Observations : 0, Reward : 0.0\n",
      "Action : 2, Observations : 0, Reward : 0.0\n",
      "Action : 1, Observations : 0, Reward : 0.0\n",
      "Action : 3, Observations : 1, Reward : 0.0\n",
      "Action : 2, Observations : 1, Reward : 0.0\n",
      "Action : 0, Observations : 0, Reward : 0.0\n",
      "Action : 2, Observations : 0, Reward : 0.0\n",
      "Action : 1, Observations : 4, Reward : 0.0\n",
      "Action : 3, Observations : 0, Reward : 0.0\n",
      "Action : 1, Observations : 0, Reward : 0.0\n",
      "Action : 1, Observations : 0, Reward : 0.0\n",
      "Action : 3, Observations : 0, Reward : 0.0\n",
      "Action : 3, Observations : 0, Reward : 0.0\n",
      "Action : 0, Observations : 0, Reward : 0.0\n",
      "Action : 1, Observations : 4, Reward : 0.0\n",
      "Action : 3, Observations : 0, Reward : 0.0\n",
      "Action : 2, Observations : 4, Reward : 0.0\n",
      "Action : 1, Observations : 0, Reward : 0.0\n",
      "Action : 0, Observations : 4, Reward : 0.0\n",
      "Action : 3, Observations : 0, Reward : 0.0\n",
      "Action : 1, Observations : 0, Reward : 0.0\n",
      "Action : 0, Observations : 0, Reward : 0.0\n",
      "Action : 2, Observations : 4, Reward : 0.0\n",
      "Action : 0, Observations : 4, Reward : 0.0\n",
      "Action : 1, Observations : 4, Reward : 0.0\n",
      "Action : 1, Observations : 4, Reward : 0.0\n",
      "Action : 1, Observations : 0, Reward : 0.0\n",
      "Action : 3, Observations : 0, Reward : 0.0\n",
      "Action : 2, Observations : 4, Reward : 0.0\n",
      "Action : 2, Observations : 1, Reward : 0.0\n",
      "Action : 2, Observations : 0, Reward : 0.0\n",
      "Action : 2, Observations : 0, Reward : 0.0\n",
      "Action : 3, Observations : 0, Reward : 0.0\n",
      "Action : 1, Observations : 4, Reward : 0.0\n",
      "Action : 1, Observations : 1, Reward : 0.0\n",
      "Action : 3, Observations : 1, Reward : 0.0\n",
      "Action : 3, Observations : 1, Reward : 0.0\n",
      "Action : 0, Observations : 0, Reward : 0.0\n",
      "Action : 1, Observations : 0, Reward : 0.0\n",
      "Action : 1, Observations : 4, Reward : 0.0\n",
      "Action : 0, Observations : 4, Reward : 0.0\n",
      "Action : 1, Observations : 4, Reward : 0.0\n",
      "Action : 1, Observations : 0, Reward : 0.0\n",
      "Action : 0, Observations : 0, Reward : 0.0\n",
      "Action : 1, Observations : 4, Reward : 0.0\n",
      "Action : 2, Observations : 4, Reward : 0.0\n",
      "Action : 0, Observations : 4, Reward : 0.0\n",
      "Action : 0, Observations : 0, Reward : 0.0\n",
      "Action : 1, Observations : 0, Reward : 0.0\n",
      "Action : 3, Observations : 0, Reward : 0.0\n",
      "Action : 2, Observations : 1, Reward : 0.0\n",
      "Action : 0, Observations : 0, Reward : 0.0\n",
      "Action : 1, Observations : 0, Reward : 0.0\n",
      "Action : 0, Observations : 0, Reward : 0.0\n",
      "Action : 2, Observations : 0, Reward : 0.0\n",
      "Action : 2, Observations : 1, Reward : 0.0\n",
      "Action : 0, Observations : 0, Reward : 0.0\n",
      "Action : 1, Observations : 4, Reward : 0.0\n",
      "Action : 0, Observations : 0, Reward : 0.0\n",
      "Action : 1, Observations : 0, Reward : 0.0\n",
      "Action : 2, Observations : 1, Reward : 0.0\n",
      "Action : 2, Observations : 0, Reward : 0.0\n",
      "Action : 2, Observations : 1, Reward : 0.0\n",
      "Action : 1, Observations : 4, Reward : 0.0\n",
      "Action : 3, Observations : 0, Reward : 0.0\n",
      "Action : 2, Observations : 4, Reward : 0.0\n",
      "Action : 0, Observations : 4, Reward : 0.0\n",
      "Action : 3, Observations : 1, Reward : 0.0\n",
      "Action : 2, Observations : 4, Reward : 0.0\n",
      "Action : 0, Observations : 4, Reward : 0.0\n",
      "Action : 3, Observations : 0, Reward : 0.0\n",
      "Action : 0, Observations : 0, Reward : 0.0\n",
      "Action : 3, Observations : 0, Reward : 0.0\n",
      "Action : 1, Observations : 1, Reward : 0.0\n",
      "Action : 2, Observations : 4, Reward : 0.0\n"
     ]
    }
   ],
   "source": [
    "#Instruction 3 & 4\n",
    "for _ in range(100):\n",
    "    env.reset()\n",
    "    action=env.action_space.sample()\n",
    "    observations,reward,done,_,_=env.step(action)\n",
    "\n",
    "    print(f\"Action : {action}, Observations : {observations}, Reward : {reward}\")\n",
    "\n"
   ]
  },
  {
   "cell_type": "markdown",
   "metadata": {},
   "source": [
    "# Exercice 2"
   ]
  },
  {
   "cell_type": "code",
   "execution_count": 4,
   "metadata": {},
   "outputs": [
    {
     "name": "stdout",
     "output_type": "stream",
     "text": [
      "Q-Table initiale avant apprentissage :\n",
      "\n",
      "[[0. 0. 0. 0.]\n",
      " [0. 0. 0. 0.]\n",
      " [0. 0. 0. 0.]\n",
      " [0. 0. 0. 0.]\n",
      " [0. 0. 0. 0.]\n",
      " [0. 0. 0. 0.]\n",
      " [0. 0. 0. 0.]\n",
      " [0. 0. 0. 0.]\n",
      " [0. 0. 0. 0.]\n",
      " [0. 0. 0. 0.]\n",
      " [0. 0. 0. 0.]\n",
      " [0. 0. 0. 0.]\n",
      " [0. 0. 0. 0.]\n",
      " [0. 0. 0. 0.]\n",
      " [0. 0. 0. 0.]\n",
      " [0. 0. 0. 0.]]\n",
      "\n",
      " Vérification : chaque état doit avoir une liste de 4 valeurs (une pour chaque action) :\n",
      "État 0: [0. 0. 0. 0.]\n",
      "État 1: [0. 0. 0. 0.]\n",
      "État 2: [0. 0. 0. 0.]\n",
      "État 3: [0. 0. 0. 0.]\n",
      "État 4: [0. 0. 0. 0.]\n",
      "État 5: [0. 0. 0. 0.]\n",
      "État 6: [0. 0. 0. 0.]\n",
      "État 7: [0. 0. 0. 0.]\n",
      "État 8: [0. 0. 0. 0.]\n",
      "État 9: [0. 0. 0. 0.]\n",
      "État 10: [0. 0. 0. 0.]\n",
      "État 11: [0. 0. 0. 0.]\n",
      "État 12: [0. 0. 0. 0.]\n",
      "État 13: [0. 0. 0. 0.]\n",
      "État 14: [0. 0. 0. 0.]\n",
      "État 15: [0. 0. 0. 0.]\n"
     ]
    }
   ],
   "source": [
    "num_states = env.observation_space.n   \n",
    "num_actions = env.action_space.n       \n",
    "\n",
    "\n",
    "q_table = np.zeros((num_states, num_actions))\n",
    "\n",
    "\n",
    "print(\"Q-Table initiale avant apprentissage :\\n\")\n",
    "print(q_table)\n",
    "\n",
    "\n",
    "print(\"\\n Vérification : chaque état doit avoir une liste de\", num_actions, \"valeurs (une pour chaque action) :\")\n",
    "for state in range(num_states):\n",
    "    print(f\"État {state}: {q_table[state]}\")\n"
   ]
  },
  {
   "cell_type": "markdown",
   "metadata": {},
   "source": [
    "# Exercice 3"
   ]
  },
  {
   "cell_type": "code",
   "execution_count": 15,
   "metadata": {},
   "outputs": [
    {
     "name": "stdout",
     "output_type": "stream",
     "text": [
      "Épisode 0/100 terminé - epsilon : 1.0000\n",
      "Épisode 10/100 terminé - epsilon : 1.0000\n",
      "Épisode 20/100 terminé - epsilon : 1.0000\n",
      "Épisode 30/100 terminé - epsilon : 1.0000\n",
      "Épisode 40/100 terminé - epsilon : 1.0000\n",
      "Épisode 50/100 terminé - epsilon : 1.0000\n",
      "Épisode 60/100 terminé - epsilon : 1.0000\n",
      "Épisode 70/100 terminé - epsilon : 1.0000\n",
      "Épisode 80/100 terminé - epsilon : 1.0000\n",
      "Épisode 90/100 terminé - epsilon : 1.0000\n",
      "\n",
      " Q-Table après apprentissage :\n",
      "[[0.05967139 0.05947609 0.05567934 0.05572015]\n",
      " [0.04260804 0.0351435  0.03913766 0.05377313]\n",
      " [0.05618619 0.04636775 0.05266726 0.04633461]\n",
      " [0.02234311 0.0208033  0.02653574 0.03950699]\n",
      " [0.0648241  0.05154951 0.04539273 0.03377214]\n",
      " [0.         0.         0.         0.        ]\n",
      " [0.03022443 0.02788873 0.07377217 0.01230571]\n",
      " [0.         0.         0.         0.        ]\n",
      " [0.04962215 0.05429796 0.06940565 0.07398667]\n",
      " [0.09921859 0.1048554  0.10519926 0.06354616]\n",
      " [0.14828414 0.1350736  0.08734151 0.04717652]\n",
      " [0.         0.         0.         0.        ]\n",
      " [0.         0.         0.         0.        ]\n",
      " [0.07409297 0.18940651 0.14178234 0.14110788]\n",
      " [0.21886863 0.2508959  0.45440912 0.30224986]\n",
      " [0.         0.         0.         0.        ]]\n"
     ]
    }
   ],
   "source": [
    "import random\n",
    "\n",
    "alpha = 0.1  # Taux d'apprentissage\n",
    "gamma = 0.99  # Facteur de discount\n",
    "epsilon = 1.0  # Exploration initiale\n",
    "epsilon_decay = 0.995  # Décroissance d'epsilon\n",
    "num_episodes = 100  # Nombre d'épisodes\n",
    "\n",
    "\n",
    "for episode in range(num_episodes):\n",
    "    state, _ = env.reset()\n",
    "    done = False\n",
    "\n",
    "    while not done:\n",
    "        \n",
    "        if random.uniform(0, 1) < epsilon:\n",
    "            action = env.action_space.sample()  # Exploration (action aléatoire)\n",
    "        else:\n",
    "            action = np.argmax(q_table[state, :])  # Exploitation (meilleure action connue)\n",
    "\n",
    "       \n",
    "        next_state, reward, done, _, _ = env.step(action)\n",
    "\n",
    "       \n",
    "        q_table[state, action] = q_table[state, action] + alpha * (\n",
    "            reward + gamma * np.max(q_table[next_state, :]) - q_table[state, action]\n",
    "        )\n",
    "\n",
    "        state = next_state  # Mise à jour de l'état\n",
    "\n",
    "\n",
    "   \n",
    "    if episode % 10 == 0:\n",
    "        print(f\"Épisode {episode}/{num_episodes} terminé - epsilon : {epsilon:.4f}\")\n",
    "\n",
    "env.close()\n",
    "\n",
    "print(\"\\n Q-Table après apprentissage :\")\n",
    "print(q_table)\n"
   ]
  },
  {
   "cell_type": "markdown",
   "metadata": {},
   "source": [
    "# Exercice 4"
   ]
  },
  {
   "cell_type": "code",
   "execution_count": 16,
   "metadata": {},
   "outputs": [
    {
     "name": "stdout",
     "output_type": "stream",
     "text": [
      "\n",
      " L'agent a atteint l'objectif 19 fois sur 100 essais.\n",
      " Taux de réussite : 19.00%\n"
     ]
    }
   ],
   "source": [
    "num_test_episodes=100\n",
    "successes=0\n",
    "for episode in range(num_test_episodes):\n",
    "    state, _ = env.reset()\n",
    "    done = False\n",
    "\n",
    "    while not done:\n",
    "        action = np.argmax(q_table[state, :])  # Sélectionner l'action optimale\n",
    "        next_state, reward, done, _, _ = env.step(action)\n",
    "        state = next_state\n",
    "\n",
    "        if reward == 1:\n",
    "            successes += 1\n",
    "\n",
    "success_rate = successes / num_test_episodes * 100\n",
    "print(f\"\\n L'agent a atteint l'objectif {successes} fois sur {num_test_episodes} essais.\")\n",
    "print(f\" Taux de réussite : {success_rate:.2f}%\")\n",
    "\n",
    "env.close()"
   ]
  },
  {
   "cell_type": "code",
   "execution_count": null,
   "metadata": {},
   "outputs": [],
   "source": []
  }
 ],
 "metadata": {
  "kernelspec": {
   "display_name": "env",
   "language": "python",
   "name": "python3"
  },
  "language_info": {
   "codemirror_mode": {
    "name": "ipython",
    "version": 3
   },
   "file_extension": ".py",
   "mimetype": "text/x-python",
   "name": "python",
   "nbconvert_exporter": "python",
   "pygments_lexer": "ipython3",
   "version": "3.7.16"
  }
 },
 "nbformat": 4,
 "nbformat_minor": 2
}
